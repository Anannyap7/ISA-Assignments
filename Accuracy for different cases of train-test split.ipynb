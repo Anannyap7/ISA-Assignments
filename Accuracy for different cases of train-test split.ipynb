{
 "cells": [
  {
   "cell_type": "markdown",
   "metadata": {},
   "source": [
    "# ACCURACY FOR DIFFERENT CASES OF TRAIN-TEST SPLIT"
   ]
  },
  {
   "cell_type": "markdown",
   "metadata": {},
   "source": [
    "## Linear Regression Data"
   ]
  },
  {
   "cell_type": "markdown",
   "metadata": {},
   "source": [
    "### Importing Needed Libraries"
   ]
  },
  {
   "cell_type": "code",
   "execution_count": 1,
   "metadata": {},
   "outputs": [],
   "source": [
    "import matplotlib.pyplot as plt\n",
    "import pandas as pd\n",
    "import pylab as pl\n",
    "import numpy as np\n",
    "%matplotlib inline\n",
    "from sklearn.model_selection import train_test_split\n",
    "from sklearn import linear_model"
   ]
  },
  {
   "cell_type": "markdown",
   "metadata": {},
   "source": [
    "### Reading the Data"
   ]
  },
  {
   "cell_type": "code",
   "execution_count": 2,
   "metadata": {},
   "outputs": [
    {
     "data": {
      "text/html": [
       "<div>\n",
       "<style scoped>\n",
       "    .dataframe tbody tr th:only-of-type {\n",
       "        vertical-align: middle;\n",
       "    }\n",
       "\n",
       "    .dataframe tbody tr th {\n",
       "        vertical-align: top;\n",
       "    }\n",
       "\n",
       "    .dataframe thead th {\n",
       "        text-align: right;\n",
       "    }\n",
       "</style>\n",
       "<table border=\"1\" class=\"dataframe\">\n",
       "  <thead>\n",
       "    <tr style=\"text-align: right;\">\n",
       "      <th></th>\n",
       "      <th>Salnty</th>\n",
       "      <th>T_degC</th>\n",
       "    </tr>\n",
       "  </thead>\n",
       "  <tbody>\n",
       "    <tr>\n",
       "      <th>0</th>\n",
       "      <td>33.440</td>\n",
       "      <td>10.50</td>\n",
       "    </tr>\n",
       "    <tr>\n",
       "      <th>1</th>\n",
       "      <td>33.440</td>\n",
       "      <td>10.46</td>\n",
       "    </tr>\n",
       "    <tr>\n",
       "      <th>2</th>\n",
       "      <td>33.437</td>\n",
       "      <td>10.46</td>\n",
       "    </tr>\n",
       "    <tr>\n",
       "      <th>3</th>\n",
       "      <td>33.420</td>\n",
       "      <td>10.45</td>\n",
       "    </tr>\n",
       "    <tr>\n",
       "      <th>4</th>\n",
       "      <td>33.421</td>\n",
       "      <td>10.45</td>\n",
       "    </tr>\n",
       "  </tbody>\n",
       "</table>\n",
       "</div>"
      ],
      "text/plain": [
       "   Salnty  T_degC\n",
       "0  33.440   10.50\n",
       "1  33.440   10.46\n",
       "2  33.437   10.46\n",
       "3  33.420   10.45\n",
       "4  33.421   10.45"
      ]
     },
     "execution_count": 2,
     "metadata": {},
     "output_type": "execute_result"
    }
   ],
   "source": [
    "df = pd.read_csv(\"bottle1.csv\")\n",
    "cdf = df[['Salnty','T_degC']]\n",
    "cdf.head()"
   ]
  },
  {
   "cell_type": "code",
   "execution_count": 3,
   "metadata": {},
   "outputs": [
    {
     "data": {
      "text/plain": [
       "500"
      ]
     },
     "execution_count": 3,
     "metadata": {},
     "output_type": "execute_result"
    }
   ],
   "source": [
    "# Limiting amount of entries to speed up regression time\n",
    "cdf = cdf[:][:500]\n",
    "len(cdf)"
   ]
  },
  {
   "cell_type": "markdown",
   "metadata": {},
   "source": [
    "## Creating Different cases of Test and Train Dataset"
   ]
  },
  {
   "cell_type": "code",
   "execution_count": 4,
   "metadata": {},
   "outputs": [],
   "source": [
    "# Eliminating NaN or missing input numbers and filling it\n",
    "cdf.fillna(method='ffill', inplace=True)"
   ]
  },
  {
   "cell_type": "code",
   "execution_count": 5,
   "metadata": {},
   "outputs": [
    {
     "data": {
      "text/plain": [
       "array([[33.44 ],\n",
       "       [33.44 ],\n",
       "       [33.437],\n",
       "       [33.42 ],\n",
       "       [33.421]])"
      ]
     },
     "execution_count": 5,
     "metadata": {},
     "output_type": "execute_result"
    }
   ],
   "source": [
    "X = np.asarray(cdf['Salnty']).reshape(-1,1)\n",
    "X[0:5]"
   ]
  },
  {
   "cell_type": "code",
   "execution_count": 6,
   "metadata": {},
   "outputs": [
    {
     "data": {
      "text/plain": [
       "array([[10.5 ],\n",
       "       [10.46],\n",
       "       [10.46],\n",
       "       [10.45],\n",
       "       [10.45]])"
      ]
     },
     "execution_count": 6,
     "metadata": {},
     "output_type": "execute_result"
    }
   ],
   "source": [
    "y = np.asarray(cdf['T_degC']).reshape(-1,1)\n",
    "y[0:5]"
   ]
  },
  {
   "cell_type": "code",
   "execution_count": 7,
   "metadata": {},
   "outputs": [],
   "source": [
    "# Pandas dropna() allows the user to analyze and drop Rows/Columns with Null values in different ways.\n",
    "cdf.dropna(inplace=True)"
   ]
  },
  {
   "cell_type": "code",
   "execution_count": 8,
   "metadata": {},
   "outputs": [
    {
     "name": "stdout",
     "output_type": "stream",
     "text": [
      "\n",
      "TRAIN/TEST SIZES FOR i= 0.550000:\n",
      "\n",
      "Train size for train= 0.550000 :  (275, 1) (275, 1)\n",
      "Test size for train= 0.550000:  (225, 1) (225, 1)\n",
      "\n",
      "\n",
      "MODELING THE DATA FOR i=0.550000: \n",
      "\n",
      "Coefficients for train= 0.550000:  [[-4.82572734]]\n",
      "Intercept for train= 0.550000:  [170.12353733]\n",
      "\n",
      "\n",
      "PREDICTING Y VALUES FOR i= 0.550000: \n",
      "\n",
      " [[12.41876785]\n",
      " [11.55013693]\n",
      " [12.08096694]]\n",
      "\n",
      "\n",
      " ACCURACY FOR i= 0.550000 is : \n",
      "0.8268929289009727\n",
      "\n",
      "\n",
      "TRAIN/TEST SIZES FOR i= 0.600000:\n",
      "\n",
      "Train size for train= 0.600000 :  (300, 1) (300, 1)\n",
      "Test size for train= 0.600000:  (200, 1) (200, 1)\n",
      "\n",
      "\n",
      "MODELING THE DATA FOR i=0.600000: \n",
      "\n",
      "Coefficients for train= 0.600000:  [[-4.8294804]]\n",
      "Intercept for train= 0.600000:  [170.27509432]\n",
      "\n",
      "\n",
      "PREDICTING Y VALUES FOR i= 0.600000: \n",
      "\n",
      " [[12.44767469]\n",
      " [11.57836822]\n",
      " [12.10961106]]\n",
      "\n",
      "\n",
      " ACCURACY FOR i= 0.600000 is : \n",
      "0.8294942066299138\n",
      "\n",
      "\n",
      "TRAIN/TEST SIZES FOR i= 0.650000:\n",
      "\n",
      "Train size for train= 0.650000 :  (325, 1) (325, 1)\n",
      "Test size for train= 0.650000:  (175, 1) (175, 1)\n",
      "\n",
      "\n",
      "MODELING THE DATA FOR i=0.650000: \n",
      "\n",
      "Coefficients for train= 0.650000:  [[-4.853824]]\n",
      "Intercept for train= 0.650000:  [171.07925061]\n",
      "\n",
      "\n",
      "PREDICTING Y VALUES FOR i= 0.650000: \n",
      "\n",
      " [[12.45628226]\n",
      " [11.58259394]\n",
      " [12.11651458]]\n",
      "\n",
      "\n",
      " ACCURACY FOR i= 0.650000 is : \n",
      "0.8291089177079705\n",
      "\n",
      "\n",
      "TRAIN/TEST SIZES FOR i= 0.700000:\n",
      "\n",
      "Train size for train= 0.700000 :  (350, 1) (350, 1)\n",
      "Test size for train= 0.700000:  (150, 1) (150, 1)\n",
      "\n",
      "\n",
      "MODELING THE DATA FOR i=0.700000: \n",
      "\n",
      "Coefficients for train= 0.700000:  [[-4.84134148]]\n",
      "Intercept for train= 0.700000:  [170.66252299]\n",
      "\n",
      "\n",
      "PREDICTING Y VALUES FOR i= 0.700000: \n",
      "\n",
      " [[12.4474833 ]\n",
      " [11.57604183]\n",
      " [12.10858939]]\n",
      "\n",
      "\n",
      " ACCURACY FOR i= 0.700000 is : \n",
      "0.8214741410038493\n",
      "\n",
      "\n",
      "TRAIN/TEST SIZES FOR i= 0.750000:\n",
      "\n",
      "Train size for train= 0.750000 :  (375, 1) (375, 1)\n",
      "Test size for train= 0.750000:  (125, 1) (125, 1)\n",
      "\n",
      "\n",
      "MODELING THE DATA FOR i=0.750000: \n",
      "\n",
      "Coefficients for train= 0.750000:  [[-4.81322591]]\n",
      "Intercept for train= 0.750000:  [169.70991943]\n",
      "\n",
      "\n",
      "PREDICTING Y VALUES FOR i= 0.750000: \n",
      "\n",
      " [[12.41369672]\n",
      " [11.54731606]\n",
      " [12.07677091]]\n",
      "\n",
      "\n",
      " ACCURACY FOR i= 0.750000 is : \n",
      "0.8208642308186584\n",
      "\n",
      "\n",
      "TRAIN/TEST SIZES FOR i= 0.800000:\n",
      "\n",
      "Train size for train= 0.800000 :  (400, 1) (400, 1)\n",
      "Test size for train= 0.800000:  (100, 1) (100, 1)\n",
      "\n",
      "\n",
      "MODELING THE DATA FOR i=0.800000: \n",
      "\n",
      "Coefficients for train= 0.800000:  [[-4.80751898]]\n",
      "Intercept for train= 0.800000:  [169.5151324]\n",
      "\n",
      "\n",
      "PREDICTING Y VALUES FOR i= 0.800000: \n",
      "\n",
      " [[12.405412  ]\n",
      " [11.54005858]\n",
      " [12.06888567]]\n",
      "\n",
      "\n",
      " ACCURACY FOR i= 0.800000 is : \n",
      "0.8093114854419466\n",
      "\n",
      "\n",
      "TRAIN/TEST SIZES FOR i= 0.850000:\n",
      "\n",
      "Train size for train= 0.850000 :  (425, 1) (425, 1)\n",
      "Test size for train= 0.850000:  (75, 1) (75, 1)\n",
      "\n",
      "\n",
      "MODELING THE DATA FOR i=0.850000: \n",
      "\n",
      "Coefficients for train= 0.850000:  [[-4.79791863]]\n",
      "Intercept for train= 0.850000:  [169.17594143]\n",
      "\n",
      "\n",
      "PREDICTING Y VALUES FOR i= 0.850000: \n",
      "\n",
      " [[12.37996048]\n",
      " [11.51633512]\n",
      " [12.04410617]]\n",
      "\n",
      "\n",
      " ACCURACY FOR i= 0.850000 is : \n",
      "0.8026764925718183\n",
      "\n",
      "\n",
      "TRAIN/TEST SIZES FOR i= 0.900000:\n",
      "\n",
      "Train size for train= 0.900000 :  (450, 1) (450, 1)\n",
      "Test size for train= 0.900000:  (50, 1) (50, 1)\n",
      "\n",
      "\n",
      "MODELING THE DATA FOR i=0.900000: \n",
      "\n",
      "Coefficients for train= 0.900000:  [[-4.77207244]]\n",
      "Intercept for train= 0.900000:  [168.3000366]\n",
      "\n",
      "\n",
      "PREDICTING Y VALUES FOR i= 0.900000: \n",
      "\n",
      " [[12.34870934]\n",
      " [11.48973631]\n",
      " [12.01466427]]\n",
      "\n",
      "\n",
      " ACCURACY FOR i= 0.900000 is : \n",
      "0.8353087066779801\n",
      "\n"
     ]
    }
   ],
   "source": [
    "# TRAIN/TEST SPLIT:\n",
    "\n",
    "for i in np.arange (0.55, 0.95, 0.05):\n",
    "    \n",
    "    X_train, X_test, y_train, y_test = train_test_split (X,y, test_size=(1-i), random_state=4)\n",
    "    print(\"\\nTRAIN/TEST SIZES FOR i= %f:\" %i)\n",
    "    print('\\nTrain size for train= %f : ' %i, X_train.shape, y_train.shape)\n",
    "    print('Test size for train= %f: ' %i,X_test.shape, y_test.shape)\n",
    "    print()\n",
    "    \n",
    "    #MODELING:\n",
    "    print(\"\\nMODELING THE DATA FOR i=%f: \" %i)\n",
    "    regr = linear_model.LinearRegression()\n",
    "    regr.fit (X_train, y_train)   # Best fit line for the regression model\n",
    "\n",
    "    # The coefficients\n",
    "    print ('\\nCoefficients for train= %f: ' %i, regr.coef_)\n",
    "    print ('Intercept for train= %f: ' %i, regr.intercept_)\n",
    "    print()\n",
    "    \n",
    "    #PREDICTING:\n",
    "    print(\"\\nPREDICTING Y VALUES FOR i= %f: \" %i)\n",
    "    y_pred = regr.predict(X_test)\n",
    "    print(\"\\n\",y_pred[0:3])\n",
    "    print()\n",
    "    \n",
    "    #ACCURACY:\n",
    "    print(\"\\n ACCURACY FOR i= %f is : \" %i)\n",
    "    acc = regr.score(X_test, y_test)\n",
    "    print(acc)\n",
    "    print()"
   ]
  },
  {
   "cell_type": "code",
   "execution_count": 9,
   "metadata": {},
   "outputs": [
    {
     "name": "stdout",
     "output_type": "stream",
     "text": [
      "Train Size list:  [0.55, 0.6000000000000001, 0.6500000000000001, 0.7000000000000002, 0.7500000000000002, 0.8000000000000003, 0.8500000000000003, 0.9000000000000004]\n"
     ]
    }
   ],
   "source": [
    " #APPENDING TRAIN SIZE INTO A LIST:\n",
    "\n",
    "train_size = []\n",
    "for i in np.arange(0.55,0.95,0.05):\n",
    "    train_size.append(i)\n",
    "    \n",
    "print(\"Train Size list: \" ,train_size)"
   ]
  },
  {
   "cell_type": "code",
   "execution_count": 10,
   "metadata": {},
   "outputs": [
    {
     "name": "stdout",
     "output_type": "stream",
     "text": [
      "Accuracy list:  [0.8268929289009727, 0.8294942066299138, 0.8291089177079705, 0.8214741410038493, 0.8208642308186584, 0.8093114854419466, 0.8026764925718183, 0.8353087066779801]\n"
     ]
    }
   ],
   "source": [
    "#APPENDING THE ACCURACY INTO A LIST\n",
    "\n",
    "accuracy= []\n",
    "\n",
    "for i in np.arange(0.55,0.95,0.05):\n",
    "    \n",
    "    X_train, X_test, y_train, y_test = train_test_split (X,y, test_size=(1-i), random_state=4)\n",
    "    regr = linear_model.LinearRegression()\n",
    "    regr.fit (X_train, y_train)   \n",
    "    acc = regr.score(X_test, y_test)\n",
    "    accuracy.append(acc)\n",
    "    \n",
    "print(\"Accuracy list: \",accuracy)"
   ]
  },
  {
   "cell_type": "markdown",
   "metadata": {},
   "source": [
    "## DataFrame for train size and Accuracy"
   ]
  },
  {
   "cell_type": "code",
   "execution_count": 11,
   "metadata": {},
   "outputs": [
    {
     "data": {
      "text/html": [
       "<div>\n",
       "<style scoped>\n",
       "    .dataframe tbody tr th:only-of-type {\n",
       "        vertical-align: middle;\n",
       "    }\n",
       "\n",
       "    .dataframe tbody tr th {\n",
       "        vertical-align: top;\n",
       "    }\n",
       "\n",
       "    .dataframe thead th {\n",
       "        text-align: right;\n",
       "    }\n",
       "</style>\n",
       "<table border=\"1\" class=\"dataframe\">\n",
       "  <thead>\n",
       "    <tr style=\"text-align: right;\">\n",
       "      <th></th>\n",
       "      <th>Train_Size</th>\n",
       "      <th>Accuracy</th>\n",
       "    </tr>\n",
       "  </thead>\n",
       "  <tbody>\n",
       "    <tr>\n",
       "      <th>0</th>\n",
       "      <td>0.55</td>\n",
       "      <td>0.826893</td>\n",
       "    </tr>\n",
       "    <tr>\n",
       "      <th>1</th>\n",
       "      <td>0.60</td>\n",
       "      <td>0.829494</td>\n",
       "    </tr>\n",
       "    <tr>\n",
       "      <th>2</th>\n",
       "      <td>0.65</td>\n",
       "      <td>0.829109</td>\n",
       "    </tr>\n",
       "    <tr>\n",
       "      <th>3</th>\n",
       "      <td>0.70</td>\n",
       "      <td>0.821474</td>\n",
       "    </tr>\n",
       "    <tr>\n",
       "      <th>4</th>\n",
       "      <td>0.75</td>\n",
       "      <td>0.820864</td>\n",
       "    </tr>\n",
       "    <tr>\n",
       "      <th>5</th>\n",
       "      <td>0.80</td>\n",
       "      <td>0.809311</td>\n",
       "    </tr>\n",
       "    <tr>\n",
       "      <th>6</th>\n",
       "      <td>0.85</td>\n",
       "      <td>0.802676</td>\n",
       "    </tr>\n",
       "    <tr>\n",
       "      <th>7</th>\n",
       "      <td>0.90</td>\n",
       "      <td>0.835309</td>\n",
       "    </tr>\n",
       "  </tbody>\n",
       "</table>\n",
       "</div>"
      ],
      "text/plain": [
       "   Train_Size  Accuracy\n",
       "0        0.55  0.826893\n",
       "1        0.60  0.829494\n",
       "2        0.65  0.829109\n",
       "3        0.70  0.821474\n",
       "4        0.75  0.820864\n",
       "5        0.80  0.809311\n",
       "6        0.85  0.802676\n",
       "7        0.90  0.835309"
      ]
     },
     "execution_count": 11,
     "metadata": {},
     "output_type": "execute_result"
    }
   ],
   "source": [
    "dict = {'Train_Size':train_size, 'Accuracy':accuracy}\n",
    "table = pd.DataFrame(dict)\n",
    "table"
   ]
  },
  {
   "cell_type": "code",
   "execution_count": 12,
   "metadata": {},
   "outputs": [
    {
     "name": "stdout",
     "output_type": "stream",
     "text": [
      "Sorting the Accuracy in descending order: \n"
     ]
    },
    {
     "data": {
      "text/html": [
       "<div>\n",
       "<style scoped>\n",
       "    .dataframe tbody tr th:only-of-type {\n",
       "        vertical-align: middle;\n",
       "    }\n",
       "\n",
       "    .dataframe tbody tr th {\n",
       "        vertical-align: top;\n",
       "    }\n",
       "\n",
       "    .dataframe thead th {\n",
       "        text-align: right;\n",
       "    }\n",
       "</style>\n",
       "<table border=\"1\" class=\"dataframe\">\n",
       "  <thead>\n",
       "    <tr style=\"text-align: right;\">\n",
       "      <th></th>\n",
       "      <th>Train_Size</th>\n",
       "      <th>Accuracy</th>\n",
       "    </tr>\n",
       "  </thead>\n",
       "  <tbody>\n",
       "    <tr>\n",
       "      <th>7</th>\n",
       "      <td>0.90</td>\n",
       "      <td>0.835309</td>\n",
       "    </tr>\n",
       "    <tr>\n",
       "      <th>1</th>\n",
       "      <td>0.60</td>\n",
       "      <td>0.829494</td>\n",
       "    </tr>\n",
       "    <tr>\n",
       "      <th>2</th>\n",
       "      <td>0.65</td>\n",
       "      <td>0.829109</td>\n",
       "    </tr>\n",
       "    <tr>\n",
       "      <th>0</th>\n",
       "      <td>0.55</td>\n",
       "      <td>0.826893</td>\n",
       "    </tr>\n",
       "    <tr>\n",
       "      <th>3</th>\n",
       "      <td>0.70</td>\n",
       "      <td>0.821474</td>\n",
       "    </tr>\n",
       "    <tr>\n",
       "      <th>4</th>\n",
       "      <td>0.75</td>\n",
       "      <td>0.820864</td>\n",
       "    </tr>\n",
       "    <tr>\n",
       "      <th>5</th>\n",
       "      <td>0.80</td>\n",
       "      <td>0.809311</td>\n",
       "    </tr>\n",
       "    <tr>\n",
       "      <th>6</th>\n",
       "      <td>0.85</td>\n",
       "      <td>0.802676</td>\n",
       "    </tr>\n",
       "  </tbody>\n",
       "</table>\n",
       "</div>"
      ],
      "text/plain": [
       "   Train_Size  Accuracy\n",
       "7        0.90  0.835309\n",
       "1        0.60  0.829494\n",
       "2        0.65  0.829109\n",
       "0        0.55  0.826893\n",
       "3        0.70  0.821474\n",
       "4        0.75  0.820864\n",
       "5        0.80  0.809311\n",
       "6        0.85  0.802676"
      ]
     },
     "execution_count": 12,
     "metadata": {},
     "output_type": "execute_result"
    }
   ],
   "source": [
    "#SORTING VALUES:\n",
    "print(\"Sorting the Accuracy in descending order: \")\n",
    "table.sort_values(by='Accuracy',ascending=False,inplace=True)\n",
    "table"
   ]
  },
  {
   "cell_type": "code",
   "execution_count": 13,
   "metadata": {},
   "outputs": [
    {
     "name": "stdout",
     "output_type": "stream",
     "text": [
      "The Maximum Accuracy is: \n"
     ]
    },
    {
     "data": {
      "text/html": [
       "<div>\n",
       "<style scoped>\n",
       "    .dataframe tbody tr th:only-of-type {\n",
       "        vertical-align: middle;\n",
       "    }\n",
       "\n",
       "    .dataframe tbody tr th {\n",
       "        vertical-align: top;\n",
       "    }\n",
       "\n",
       "    .dataframe thead th {\n",
       "        text-align: right;\n",
       "    }\n",
       "</style>\n",
       "<table border=\"1\" class=\"dataframe\">\n",
       "  <thead>\n",
       "    <tr style=\"text-align: right;\">\n",
       "      <th></th>\n",
       "      <th>Train_Size</th>\n",
       "      <th>Accuracy</th>\n",
       "    </tr>\n",
       "  </thead>\n",
       "  <tbody>\n",
       "    <tr>\n",
       "      <th>7</th>\n",
       "      <td>0.9</td>\n",
       "      <td>0.835309</td>\n",
       "    </tr>\n",
       "  </tbody>\n",
       "</table>\n",
       "</div>"
      ],
      "text/plain": [
       "   Train_Size  Accuracy\n",
       "7         0.9  0.835309"
      ]
     },
     "execution_count": 13,
     "metadata": {},
     "output_type": "execute_result"
    }
   ],
   "source": [
    "#MAXIMUM ACCURACY:\n",
    "print(\"The Maximum Accuracy is: \")\n",
    "table.loc[[7],['Train_Size','Accuracy']]"
   ]
  },
  {
   "cell_type": "markdown",
   "metadata": {},
   "source": [
    "# THE END"
   ]
  },
  {
   "cell_type": "code",
   "execution_count": null,
   "metadata": {},
   "outputs": [],
   "source": []
  }
 ],
 "metadata": {
  "kernelspec": {
   "display_name": "Python 3",
   "language": "python",
   "name": "python3"
  },
  "language_info": {
   "codemirror_mode": {
    "name": "ipython",
    "version": 3
   },
   "file_extension": ".py",
   "mimetype": "text/x-python",
   "name": "python",
   "nbconvert_exporter": "python",
   "pygments_lexer": "ipython3",
   "version": "3.8.2"
  }
 },
 "nbformat": 4,
 "nbformat_minor": 4
}
